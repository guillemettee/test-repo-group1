{
  "nbformat": 4,
  "nbformat_minor": 0,
  "metadata": {
    "colab": {
      "provenance": []
    },
    "kernelspec": {
      "name": "python3",
      "display_name": "Python 3"
    },
    "language_info": {
      "name": "python"
    }
  },
  "cells": [
    {
      "cell_type": "code",
      "execution_count": null,
      "metadata": {
        "colab": {
          "base_uri": "https://localhost:8080/"
        },
        "id": "hKhgtAHrC7UN",
        "outputId": "9ca60c27-ec31-4e16-9310-79507c7eab42"
      },
      "outputs": [
        {
          "output_type": "stream",
          "name": "stdout",
          "text": [
            "10\n",
            "London Paris\n"
          ]
        }
      ],
      "source": [
        "print(10)\n",
        "print(\"London\", \"Paris\")\n"
      ]
    },
    {
      "cell_type": "code",
      "source": [
        "print(10*2)"
      ],
      "metadata": {
        "colab": {
          "base_uri": "https://localhost:8080/"
        },
        "id": "kGvpNeDBEXib",
        "outputId": "55c0121f-6577-4890-bc86-882476ebab00"
      },
      "execution_count": null,
      "outputs": [
        {
          "output_type": "stream",
          "name": "stdout",
          "text": [
            "20\n"
          ]
        }
      ]
    },
    {
      "cell_type": "code",
      "source": [
        "input(\"Enter your name: \")"
      ],
      "metadata": {
        "colab": {
          "base_uri": "https://localhost:8080/",
          "height": 52
        },
        "id": "nlKIetFTEvk6",
        "outputId": "faf94f90-e2b9-4783-e6ed-1a469e1c8acf"
      },
      "execution_count": null,
      "outputs": [
        {
          "name": "stdout",
          "output_type": "stream",
          "text": [
            "Enter your name: Guillemette\n"
          ]
        },
        {
          "output_type": "execute_result",
          "data": {
            "text/plain": [
              "'Guillemette'"
            ],
            "application/vnd.google.colaboratory.intrinsic+json": {
              "type": "string"
            }
          },
          "metadata": {},
          "execution_count": 5
        }
      ]
    },
    {
      "cell_type": "code",
      "source": [
        "# Print number 10.10\n",
        "print(10.10)"
      ],
      "metadata": {
        "colab": {
          "base_uri": "https://localhost:8080/"
        },
        "id": "R7L1ZxRsFLEC",
        "outputId": "0665aa4b-87bd-4029-a071-ec3fe8ee7d12"
      },
      "execution_count": null,
      "outputs": [
        {
          "output_type": "stream",
          "name": "stdout",
          "text": [
            "10.1\n"
          ]
        }
      ]
    },
    {
      "cell_type": "code",
      "source": [
        "# x is called variable\n",
        "x = 10.20\n",
        "name = \"Guillemette\"\n",
        "\n",
        "print (x)\n",
        "print (name)\n",
        "\n",
        "last_name = \"Naudin\""
      ],
      "metadata": {
        "colab": {
          "base_uri": "https://localhost:8080/"
        },
        "id": "qemraA7qGFcH",
        "outputId": "9e0a1255-6220-477d-a4b2-5d2f70d93cc8"
      },
      "execution_count": null,
      "outputs": [
        {
          "output_type": "stream",
          "name": "stdout",
          "text": [
            "10.2\n",
            "Guillemette\n"
          ]
        }
      ]
    },
    {
      "cell_type": "code",
      "source": [
        "# Ask the user what is the city\n",
        "# Ask the user their first name\n",
        "# Print the user name and then the user city\n",
        "# * Use a variable\n",
        "\n",
        "city = input (\"where are you from? \")\n",
        "name = input (\"What is your name? \")\n",
        "print(name,city)\n"
      ],
      "metadata": {
        "colab": {
          "base_uri": "https://localhost:8080/"
        },
        "id": "FnoNaFkoGyjU",
        "outputId": "04b6d527-528e-4cef-beba-1ba42945ae7d"
      },
      "execution_count": null,
      "outputs": [
        {
          "output_type": "stream",
          "name": "stdout",
          "text": [
            "where are you from? lr\n",
            "What is your name? Guillemette\n",
            "Guillemette lr\n"
          ]
        }
      ]
    },
    {
      "cell_type": "code",
      "source": [
        "x = float(input (\"enter a number: \"))\n",
        "y = int(input (\"Enter a second number: \"))\n",
        "print(\"Result is\",x+y)\n"
      ],
      "metadata": {
        "colab": {
          "base_uri": "https://localhost:8080/"
        },
        "id": "K6Oebxp5IXKn",
        "outputId": "0b130966-f505-4da2-c826-598ffdcc632d"
      },
      "execution_count": null,
      "outputs": [
        {
          "output_type": "stream",
          "name": "stdout",
          "text": [
            "enter a number: 20.25\n",
            "Enter a second number: 10\n",
            "30.25\n"
          ]
        }
      ]
    },
    {
      "cell_type": "code",
      "source": [
        "# Create a program, ask the user to give you 3 integers\n",
        "# Then Find the product of the values (a*b*c)\n",
        "# 1 2 3\n",
        "# Print the result in the form The product is : 6\n",
        "\n",
        "a = int(input (\"enter a number: \"))\n",
        "b = int(input (\"enter a number: \"))\n",
        "c = int(input (\"enter a number: \"))\n",
        "print (\"The product is: \",a*b*c)\n"
      ],
      "metadata": {
        "colab": {
          "base_uri": "https://localhost:8080/"
        },
        "id": "Qg_cpyGEJcYK",
        "outputId": "373c21dc-6438-4d3f-af37-eed76aff22c2"
      },
      "execution_count": null,
      "outputs": [
        {
          "output_type": "stream",
          "name": "stdout",
          "text": [
            "enter a number: 1\n",
            "enter a number: 2\n",
            "enter a number: 3\n",
            "The product is:  6\n"
          ]
        }
      ]
    },
    {
      "cell_type": "code",
      "source": [
        "# Ask the user to enter two number\n",
        "# Divide the numbers (float)\n",
        "# a\n",
        "# b\n",
        "# a/b\n",
        "\n",
        "a= float(input(\"enter a number: \"))\n",
        "b= float(input(\"enter a number: \"))\n",
        "print (a/b)\n"
      ],
      "metadata": {
        "colab": {
          "base_uri": "https://localhost:8080/"
        },
        "id": "DUnImbJtLGpe",
        "outputId": "42bf8199-9fd6-4a2b-a367-08ff451280aa"
      },
      "execution_count": null,
      "outputs": [
        {
          "output_type": "stream",
          "name": "stdout",
          "text": [
            "enter a number: 6 \n",
            "enter a number: 72\n",
            "0.08333333333333333\n"
          ]
        }
      ]
    },
    {
      "cell_type": "code",
      "source": [
        "x = float(input(\"Enter a number\"))\n",
        "y = float(input(\"Enter a number\"))\n",
        "\n",
        "if y==0:\n",
        "  print(\"I cannot divide\") # == equal to check an info\n",
        "else:\n",
        "  print (x/y)\n"
      ],
      "metadata": {
        "colab": {
          "base_uri": "https://localhost:8080/"
        },
        "id": "d4ura8SKMVpZ",
        "outputId": "4991dbe9-3b95-44de-847d-7caa292f140c"
      },
      "execution_count": null,
      "outputs": [
        {
          "output_type": "stream",
          "name": "stdout",
          "text": [
            "Enter a number12\n",
            "Enter a number0\n",
            "Icannot divide\n"
          ]
        }
      ]
    },
    {
      "cell_type": "code",
      "source": [
        "city = input(\"enter a city: \")\n",
        "\n",
        "if city==\"Paris\":\n",
        "  print(\"Bonjour\")\n",
        "  print(10)\n",
        "else:\n",
        "  print(\"Hi\")\n",
        "  print(100)\n"
      ],
      "metadata": {
        "colab": {
          "base_uri": "https://localhost:8080/"
        },
        "id": "NCOM417kNSNt",
        "outputId": "d4c236b9-8054-4d17-fd60-bf5a1d2af1b6"
      },
      "execution_count": null,
      "outputs": [
        {
          "output_type": "stream",
          "name": "stdout",
          "text": [
            "enter a city: Paris \n",
            "Hi\n",
            "100\n"
          ]
        }
      ]
    },
    {
      "cell_type": "markdown",
      "source": [
        "Exercise 1\n",
        "\n",
        "Create a program to ask a user their name and their age.\n",
        "\n",
        "If user is over 18, then print you are an adult. If the user is less than 18 print, you are a kid!\n",
        "\n"
      ],
      "metadata": {
        "id": "0fy-0vLJR3p1"
      }
    },
    {
      "cell_type": "code",
      "source": [
        "name= input(\"whats your name: \")\n",
        "age= int(input(\"how old are you?: \"))\n",
        "\n",
        "\n",
        "if age>18:\n",
        "  print (\"you are an adult!\")\n",
        "else:\n",
        "  print (\"you are a kid!\")\n"
      ],
      "metadata": {
        "colab": {
          "base_uri": "https://localhost:8080/"
        },
        "id": "d-dWkI9eSRl4",
        "outputId": "8af9b2b4-6d4d-45eb-98c0-c2ccac0889e2"
      },
      "execution_count": null,
      "outputs": [
        {
          "output_type": "stream",
          "name": "stdout",
          "text": [
            "whats your name: gg\n",
            "how old are you?: 12\n",
            "you are a kid!\n"
          ]
        }
      ]
    },
    {
      "cell_type": "code",
      "source": [
        "# > < >= <= (<> != not equal)"
      ],
      "metadata": {
        "id": "GkYqvtfyT5Ga"
      },
      "execution_count": null,
      "outputs": []
    },
    {
      "cell_type": "markdown",
      "source": [
        "Create a program, ask the user to enter two numbers.\n",
        "\n",
        "Print the maximum number."
      ],
      "metadata": {
        "id": "-SQPj_uJUc5j"
      }
    },
    {
      "cell_type": "code",
      "source": [
        "a= int(input(\"enter a number: \"))\n",
        "b= int(input(\"enter a number: \"))\n",
        "\n",
        "if a>b:\n",
        "  print(a)\n",
        "else:\n",
        "  print(b)"
      ],
      "metadata": {
        "colab": {
          "base_uri": "https://localhost:8080/"
        },
        "id": "VhQonniWUmdS",
        "outputId": "ae9bef8d-6c0d-48f6-89db-f8d262c0f95d"
      },
      "execution_count": null,
      "outputs": [
        {
          "output_type": "stream",
          "name": "stdout",
          "text": [
            "enter a number: 2\n",
            "enter a number: 5\n",
            "5\n"
          ]
        }
      ]
    },
    {
      "cell_type": "code",
      "source": [
        "x= 10\n",
        "y= 20\n",
        "\n",
        "if x>y:\n",
        "  print (\"x is greater than y\")\n",
        "elif x<y:\n",
        "  print (\"x is less than y\")\n",
        "else:\n",
        "  print (\"x is equal to y\")"
      ],
      "metadata": {
        "colab": {
          "base_uri": "https://localhost:8080/"
        },
        "id": "4TBVjKHPV5Cv",
        "outputId": "376e9614-0e47-4522-a463-8aa89b5acde6"
      },
      "execution_count": null,
      "outputs": [
        {
          "output_type": "stream",
          "name": "stdout",
          "text": [
            "x is less than y\n"
          ]
        }
      ]
    },
    {
      "cell_type": "markdown",
      "source": [
        "Create a program to ask the user to create a score.\n",
        "\n",
        "*If the score is less than 50 you failed.\n",
        "*if the score is between 50 and 70 you pass.\n",
        "*if the score is greater or equal than 70 is distinction\n"
      ],
      "metadata": {
        "id": "zMnhdvTlWbKB"
      }
    },
    {
      "cell_type": "code",
      "source": [
        "score = int(input(\"enter a score: \"))\n",
        "\n",
        "if score >0 and score<50:\n",
        "  print(\"fail\")\n",
        "elif score>=50 and score<70:\n",
        "  print(\"pass\")\n",
        "elif score>=70 and score<=100:\n",
        "  print(\"distinction\")\n",
        "else:\n",
        "  print(\"something is wrong!\")\n"
      ],
      "metadata": {
        "colab": {
          "base_uri": "https://localhost:8080/"
        },
        "id": "5CK7pcU8Ww40",
        "outputId": "db7f85ed-6368-40e9-988d-44b1f50f6340"
      },
      "execution_count": null,
      "outputs": [
        {
          "output_type": "stream",
          "name": "stdout",
          "text": [
            "enter a score: -12\n",
            "something is wrong!\n"
          ]
        }
      ]
    }
  ]
}