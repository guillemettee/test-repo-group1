{
  "nbformat": 4,
  "nbformat_minor": 0,
  "metadata": {
    "colab": {
      "provenance": []
    },
    "kernelspec": {
      "name": "python3",
      "display_name": "Python 3"
    },
    "language_info": {
      "name": "python"
    }
  },
  "cells": [
    {
      "cell_type": "code",
      "execution_count": 2,
      "metadata": {
        "colab": {
          "base_uri": "https://localhost:8080/"
        },
        "id": "o1eWtNP_4R-l",
        "outputId": "8fda2fa8-6416-4976-9a29-84f3b599032c"
      },
      "outputs": [
        {
          "output_type": "stream",
          "name": "stdout",
          "text": [
            "enter a number:43\n",
            "positive\n"
          ]
        }
      ],
      "source": [
        "num=int(input(\"enter a number:\"))\n",
        "\n",
        "if num>0:\n",
        "  print(\"positive\")\n",
        "else:\n",
        "  print(\"negative or zero\")\n"
      ]
    },
    {
      "cell_type": "code",
      "source": [
        "num=int(input(\"enter a number:\"))\n",
        "\n",
        "if num>0:\n",
        "  positive=True\n",
        "else:\n",
        "  positive=False"
      ],
      "metadata": {
        "colab": {
          "base_uri": "https://localhost:8080/"
        },
        "id": "JH4XjscV45-N",
        "outputId": "e90254f6-fe1e-4957-b027-79e4de126f07"
      },
      "execution_count": 3,
      "outputs": [
        {
          "name": "stdout",
          "output_type": "stream",
          "text": [
            "enter a number:56\n"
          ]
        }
      ]
    },
    {
      "cell_type": "code",
      "source": [
        "print(positive)"
      ],
      "metadata": {
        "colab": {
          "base_uri": "https://localhost:8080/"
        },
        "id": "KcndUC8P5FpR",
        "outputId": "b01482d4-e854-46df-a52a-8e877e75eb16"
      },
      "execution_count": 4,
      "outputs": [
        {
          "output_type": "stream",
          "name": "stdout",
          "text": [
            "True\n"
          ]
        }
      ]
    },
    {
      "cell_type": "markdown",
      "source": [
        "*if age < 18 you cannot watch film\n",
        "*if age >= 18 you can watch it\n",
        "*if you are over 60 you are a senior and you have a discount"
      ],
      "metadata": {
        "id": "knejxzV25YQI"
      }
    },
    {
      "cell_type": "code",
      "source": [
        "age = int(input(\"Enter age:\"))\n",
        "if age<18:\n",
        "  watch=False\n",
        "else:\n",
        "  watch=True\n",
        "\n",
        "if age>=60:\n",
        "  senior=True\n",
        "else:\n",
        "  senior=False\n",
        "print(age,watch,senior)\n",
        "\n"
      ],
      "metadata": {
        "colab": {
          "base_uri": "https://localhost:8080/"
        },
        "id": "FKOcOUam5rKP",
        "outputId": "49804461-0863-4e21-f44a-751b31b55bd1"
      },
      "execution_count": 5,
      "outputs": [
        {
          "output_type": "stream",
          "name": "stdout",
          "text": [
            "Enter age:19\n",
            "19 True False\n"
          ]
        }
      ]
    },
    {
      "cell_type": "markdown",
      "source": [
        "* if your score is less than 10 you fail\n",
        "*if 10 to 20 you pass\n",
        "* if grade >15 distinction\n",
        "\n",
        "if you get a distinction you get an award"
      ],
      "metadata": {
        "id": "a7dfsvS56fQe"
      }
    },
    {
      "cell_type": "code",
      "source": [
        "score = int(input(\"Enter score: \"))\n",
        "\n",
        "if score<10:\n",
        "  fail=True\n",
        "else:\n",
        "  fail=False\n",
        "\n",
        "if score>=15:\n",
        "  distinction=True\n",
        "else:\n",
        "  distinction=False\n",
        "\n",
        "print(score, fail, distinction)\n"
      ],
      "metadata": {
        "colab": {
          "base_uri": "https://localhost:8080/"
        },
        "id": "CKFq64gY6wIj",
        "outputId": "ce6105b6-9f40-41ad-d7f3-7fc86fca9782"
      },
      "execution_count": 6,
      "outputs": [
        {
          "output_type": "stream",
          "name": "stdout",
          "text": [
            "Enter score: 8\n",
            "8 True False\n"
          ]
        }
      ]
    },
    {
      "cell_type": "markdown",
      "source": [
        "* if temp<20 you turn on the heat.\n",
        "* if the heat is on you close the windows\n",
        "* if the windows are closed, turn on the ventilation"
      ],
      "metadata": {
        "id": "eR7yZnMr76lr"
      }
    },
    {
      "cell_type": "code",
      "source": [
        "temp = int(input(\"Enter a temp: \"))\n",
        "\n",
        "if temp<20:\n",
        "  heat=True\n",
        "else:\n",
        "  heat=False\n",
        "\n",
        "if heat==True:\n",
        "  closed_windows=False\n",
        "else:\n",
        "  closed_windows=True\n",
        "\n",
        "if closed_windows==True:\n",
        "  ventilation=True\n",
        "else:\n",
        "  ventilation=False\n",
        "\n",
        "print(temp, heat, closed_windows, ventilation)\n"
      ],
      "metadata": {
        "colab": {
          "base_uri": "https://localhost:8080/"
        },
        "id": "iw1AiS_a8I8l",
        "outputId": "42d8233e-ded4-4711-876f-90840cf79539"
      },
      "execution_count": 10,
      "outputs": [
        {
          "output_type": "stream",
          "name": "stdout",
          "text": [
            "Enter a temp: 45\n",
            "45 False True True\n"
          ]
        }
      ]
    },
    {
      "cell_type": "code",
      "source": [
        "students = ['mary','tom','stelios','kate']\n",
        "scores=[15,12,9,18]\n",
        "\n",
        "print(students[0:2])\n",
        "print(scores)"
      ],
      "metadata": {
        "colab": {
          "base_uri": "https://localhost:8080/"
        },
        "id": "IM-J3PAM8JQ-",
        "outputId": "a153ded4-d9b4-49d5-e6cc-7407e1f42038"
      },
      "execution_count": 12,
      "outputs": [
        {
          "output_type": "stream",
          "name": "stdout",
          "text": [
            "['mary', 'tom']\n",
            "[15, 12, 9, 18]\n"
          ]
        }
      ]
    },
    {
      "cell_type": "code",
      "source": [
        "scores[0]\n",
        "scores[-1]\n",
        "scores[1:3]\n"
      ],
      "metadata": {
        "colab": {
          "base_uri": "https://localhost:8080/"
        },
        "id": "-LTdorD7-3bR",
        "outputId": "16466525-5a4e-4494-a9cd-e9bce259dbc2"
      },
      "execution_count": 15,
      "outputs": [
        {
          "output_type": "execute_result",
          "data": {
            "text/plain": [
              "[12, 9]"
            ]
          },
          "metadata": {},
          "execution_count": 15
        }
      ]
    },
    {
      "cell_type": "code",
      "source": [
        "numbers = [10,20,30,40,50,60,70,80,90]\n",
        "\n",
        "#print->20\n",
        "print (numbers[1])\n",
        "#print->80\n",
        "print(numbers[-2])\n",
        "#print->10,20,30\n",
        "print (numbers[0:3])\n",
        "#print last 3 elements\n",
        "print(numbers[-3:])\n",
        "#print->50,60\n",
        "print(numbers[3:4])\n"
      ],
      "metadata": {
        "colab": {
          "base_uri": "https://localhost:8080/"
        },
        "id": "rJouPBWy_U8H",
        "outputId": "eeba099f-8f18-4c96-db06-1b7a79c2015e"
      },
      "execution_count": 16,
      "outputs": [
        {
          "output_type": "stream",
          "name": "stdout",
          "text": [
            "20\n",
            "80\n",
            "[10, 20, 30]\n",
            "[70, 80, 90]\n",
            "[40]\n"
          ]
        }
      ]
    },
    {
      "cell_type": "code",
      "source": [],
      "metadata": {
        "id": "WIszx29g_wqM"
      },
      "execution_count": null,
      "outputs": []
    }
  ]
}